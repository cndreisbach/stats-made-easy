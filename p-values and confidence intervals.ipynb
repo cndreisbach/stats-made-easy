{
 "cells": [
  {
   "cell_type": "markdown",
   "metadata": {},
   "source": [
    "# The problem\n",
    "\n",
    "http://dasl.datadesk.com/data/view/15\n",
    "\n",
    "In May, 1978, Brink's Inc. was awarded a contract to collect coins from some 70,000 parking meters in New York City for delivery to the City Department of Finance. Sometime later the City became suspicious that not all of the money collected was being returned to the city. In April of 1978 five Brink's collectors were arrested and charged with grand larceny. They were subsequently convicted. The city sued Brink's for negligent supervision of its employees, seeking to recover the amount stolen. As the fact of theft had been established, a reasonable estimate of the amount stolen was acceptable to the judge.\n",
    "\n",
    "## Let's take a look at the data"
   ]
  },
  {
   "cell_type": "code",
   "execution_count": 134,
   "metadata": {
    "collapsed": false
   },
   "outputs": [],
   "source": [
    "import pandas as pd\n",
    "import matplotlib.pyplot as plt\n",
    "import seaborn as sns\n",
    "import numpy as np\n",
    "import math"
   ]
  },
  {
   "cell_type": "code",
   "execution_count": 135,
   "metadata": {
    "collapsed": true
   },
   "outputs": [],
   "source": [
    "%matplotlib inline"
   ]
  },
  {
   "cell_type": "code",
   "execution_count": 136,
   "metadata": {
    "collapsed": false
   },
   "outputs": [
    {
     "data": {
      "text/html": [
       "<div>\n",
       "<table border=\"1\" class=\"dataframe\">\n",
       "  <thead>\n",
       "    <tr style=\"text-align: right;\">\n",
       "      <th></th>\n",
       "      <th></th>\n",
       "      <th>TIME</th>\n",
       "      <th>CON            CITY   BRINK</th>\n",
       "    </tr>\n",
       "  </thead>\n",
       "  <tbody>\n",
       "    <tr>\n",
       "      <th>1</th>\n",
       "      <th>2224277</th>\n",
       "      <td>6729</td>\n",
       "      <td>0</td>\n",
       "    </tr>\n",
       "    <tr>\n",
       "      <th>2</th>\n",
       "      <th>1892672</th>\n",
       "      <td>5751</td>\n",
       "      <td>0</td>\n",
       "    </tr>\n",
       "    <tr>\n",
       "      <th>3</th>\n",
       "      <th>1468074</th>\n",
       "      <td>6711</td>\n",
       "      <td>0</td>\n",
       "    </tr>\n",
       "    <tr>\n",
       "      <th>4</th>\n",
       "      <th>1618966</th>\n",
       "      <td>7069</td>\n",
       "      <td>0</td>\n",
       "    </tr>\n",
       "    <tr>\n",
       "      <th>5</th>\n",
       "      <th>1509195</th>\n",
       "      <td>7134</td>\n",
       "      <td>0</td>\n",
       "    </tr>\n",
       "  </tbody>\n",
       "</table>\n",
       "</div>"
      ],
      "text/plain": [
       "           TIME      CON            CITY   BRINK\n",
       "1 2224277  6729                                0\n",
       "2 1892672  5751                                0\n",
       "3 1468074  6711                                0\n",
       "4 1618966  7069                                0\n",
       "5 1509195  7134                                0"
      ]
     },
     "execution_count": 136,
     "metadata": {},
     "output_type": "execute_result"
    }
   ],
   "source": [
    "meter_records = pd.read_csv(\"data/parking-meters.tsv\", sep=\"\\t\")\n",
    "meter_records.head()"
   ]
  },
  {
   "cell_type": "markdown",
   "metadata": {},
   "source": [
    "This didn't work well at all. This file must be poorly formatted."
   ]
  },
  {
   "cell_type": "code",
   "execution_count": 137,
   "metadata": {
    "collapsed": false
   },
   "outputs": [
    {
     "data": {
      "text/html": [
       "<div>\n",
       "<table border=\"1\" class=\"dataframe\">\n",
       "  <thead>\n",
       "    <tr style=\"text-align: right;\">\n",
       "      <th></th>\n",
       "      <th>month</th>\n",
       "      <th>total</th>\n",
       "      <th>city</th>\n",
       "      <th>brinks</th>\n",
       "    </tr>\n",
       "  </thead>\n",
       "  <tbody>\n",
       "    <tr>\n",
       "      <th>0</th>\n",
       "      <td>1</td>\n",
       "      <td>2224277</td>\n",
       "      <td>6729</td>\n",
       "      <td>0</td>\n",
       "    </tr>\n",
       "    <tr>\n",
       "      <th>1</th>\n",
       "      <td>2</td>\n",
       "      <td>1892672</td>\n",
       "      <td>5751</td>\n",
       "      <td>0</td>\n",
       "    </tr>\n",
       "    <tr>\n",
       "      <th>2</th>\n",
       "      <td>3</td>\n",
       "      <td>1468074</td>\n",
       "      <td>6711</td>\n",
       "      <td>0</td>\n",
       "    </tr>\n",
       "    <tr>\n",
       "      <th>3</th>\n",
       "      <td>4</td>\n",
       "      <td>1618966</td>\n",
       "      <td>7069</td>\n",
       "      <td>0</td>\n",
       "    </tr>\n",
       "    <tr>\n",
       "      <th>4</th>\n",
       "      <td>5</td>\n",
       "      <td>1509195</td>\n",
       "      <td>7134</td>\n",
       "      <td>0</td>\n",
       "    </tr>\n",
       "    <tr>\n",
       "      <th>5</th>\n",
       "      <td>6</td>\n",
       "      <td>1511014</td>\n",
       "      <td>5954</td>\n",
       "      <td>0</td>\n",
       "    </tr>\n",
       "    <tr>\n",
       "      <th>6</th>\n",
       "      <td>7</td>\n",
       "      <td>1506977</td>\n",
       "      <td>5447</td>\n",
       "      <td>0</td>\n",
       "    </tr>\n",
       "    <tr>\n",
       "      <th>7</th>\n",
       "      <td>8</td>\n",
       "      <td>1520443</td>\n",
       "      <td>6558</td>\n",
       "      <td>0</td>\n",
       "    </tr>\n",
       "    <tr>\n",
       "      <th>8</th>\n",
       "      <td>9</td>\n",
       "      <td>1070936</td>\n",
       "      <td>5222</td>\n",
       "      <td>0</td>\n",
       "    </tr>\n",
       "    <tr>\n",
       "      <th>9</th>\n",
       "      <td>10</td>\n",
       "      <td>79419 1</td>\n",
       "      <td>4150</td>\n",
       "      <td>0</td>\n",
       "    </tr>\n",
       "  </tbody>\n",
       "</table>\n",
       "</div>"
      ],
      "text/plain": [
       "   month    total  city  brinks\n",
       "0      1  2224277  6729       0\n",
       "1      2  1892672  5751       0\n",
       "2      3  1468074  6711       0\n",
       "3      4  1618966  7069       0\n",
       "4      5  1509195  7134       0\n",
       "5      6  1511014  5954       0\n",
       "6      7  1506977  5447       0\n",
       "7      8  1520443  6558       0\n",
       "8      9  1070936  5222       0\n",
       "9     10  79419 1  4150       0"
      ]
     },
     "execution_count": 137,
     "metadata": {},
     "output_type": "execute_result"
    }
   ],
   "source": [
    "meter_records = pd.read_csv(\"data/parking-meters.tsv\", sep=\"\\t\", skiprows=1, header=None, \n",
    "                            names=[\"month\", \"total\", \"city\", \"brinks\"])\n",
    "meter_records.head(10)"
   ]
  },
  {
   "cell_type": "code",
   "execution_count": 138,
   "metadata": {
    "collapsed": false
   },
   "outputs": [
    {
     "data": {
      "text/plain": [
       "month      int64\n",
       "total     object\n",
       "city       int64\n",
       "brinks     int64\n",
       "dtype: object"
      ]
     },
     "execution_count": 138,
     "metadata": {},
     "output_type": "execute_result"
    }
   ],
   "source": [
    "meter_records.dtypes"
   ]
  },
  {
   "cell_type": "markdown",
   "metadata": {},
   "source": [
    "Look at line 9. For some reason, we have a space in the number. I could remove that space, but judging from the other numbers, I'm not sure that's good data. I'm going to throw it out."
   ]
  },
  {
   "cell_type": "code",
   "execution_count": 139,
   "metadata": {
    "collapsed": false
   },
   "outputs": [
    {
     "data": {
      "text/html": [
       "<div>\n",
       "<table border=\"1\" class=\"dataframe\">\n",
       "  <thead>\n",
       "    <tr style=\"text-align: right;\">\n",
       "      <th></th>\n",
       "      <th>month</th>\n",
       "      <th>total</th>\n",
       "      <th>city</th>\n",
       "      <th>brinks</th>\n",
       "    </tr>\n",
       "  </thead>\n",
       "  <tbody>\n",
       "    <tr>\n",
       "      <th>0</th>\n",
       "      <td>1</td>\n",
       "      <td>2224277</td>\n",
       "      <td>6729</td>\n",
       "      <td>0</td>\n",
       "    </tr>\n",
       "    <tr>\n",
       "      <th>1</th>\n",
       "      <td>2</td>\n",
       "      <td>1892672</td>\n",
       "      <td>5751</td>\n",
       "      <td>0</td>\n",
       "    </tr>\n",
       "    <tr>\n",
       "      <th>2</th>\n",
       "      <td>3</td>\n",
       "      <td>1468074</td>\n",
       "      <td>6711</td>\n",
       "      <td>0</td>\n",
       "    </tr>\n",
       "    <tr>\n",
       "      <th>3</th>\n",
       "      <td>4</td>\n",
       "      <td>1618966</td>\n",
       "      <td>7069</td>\n",
       "      <td>0</td>\n",
       "    </tr>\n",
       "    <tr>\n",
       "      <th>4</th>\n",
       "      <td>5</td>\n",
       "      <td>1509195</td>\n",
       "      <td>7134</td>\n",
       "      <td>0</td>\n",
       "    </tr>\n",
       "    <tr>\n",
       "      <th>5</th>\n",
       "      <td>6</td>\n",
       "      <td>1511014</td>\n",
       "      <td>5954</td>\n",
       "      <td>0</td>\n",
       "    </tr>\n",
       "    <tr>\n",
       "      <th>6</th>\n",
       "      <td>7</td>\n",
       "      <td>1506977</td>\n",
       "      <td>5447</td>\n",
       "      <td>0</td>\n",
       "    </tr>\n",
       "    <tr>\n",
       "      <th>7</th>\n",
       "      <td>8</td>\n",
       "      <td>1520443</td>\n",
       "      <td>6558</td>\n",
       "      <td>0</td>\n",
       "    </tr>\n",
       "    <tr>\n",
       "      <th>8</th>\n",
       "      <td>9</td>\n",
       "      <td>1070936</td>\n",
       "      <td>5222</td>\n",
       "      <td>0</td>\n",
       "    </tr>\n",
       "    <tr>\n",
       "      <th>9</th>\n",
       "      <td>11</td>\n",
       "      <td>1602841</td>\n",
       "      <td>6765</td>\n",
       "      <td>0</td>\n",
       "    </tr>\n",
       "  </tbody>\n",
       "</table>\n",
       "</div>"
      ],
      "text/plain": [
       "   month    total  city  brinks\n",
       "0      1  2224277  6729       0\n",
       "1      2  1892672  5751       0\n",
       "2      3  1468074  6711       0\n",
       "3      4  1618966  7069       0\n",
       "4      5  1509195  7134       0\n",
       "5      6  1511014  5954       0\n",
       "6      7  1506977  5447       0\n",
       "7      8  1520443  6558       0\n",
       "8      9  1070936  5222       0\n",
       "9     11  1602841  6765       0"
      ]
     },
     "execution_count": 139,
     "metadata": {},
     "output_type": "execute_result"
    }
   ],
   "source": [
    "meter_records = pd.read_csv(\"data/parking-meters.tsv\", sep=\"\\t\", \n",
    "                            skiprows=[0,11], header=None, \n",
    "                            names=[\"month\", \"total\", \"city\", \"brinks\"])\n",
    "meter_records.head(10)"
   ]
  },
  {
   "cell_type": "code",
   "execution_count": 140,
   "metadata": {
    "collapsed": false
   },
   "outputs": [
    {
     "data": {
      "text/plain": [
       "month     int64\n",
       "total     int64\n",
       "city      int64\n",
       "brinks    int64\n",
       "dtype: object"
      ]
     },
     "execution_count": 140,
     "metadata": {},
     "output_type": "execute_result"
    }
   ],
   "source": [
    "meter_records.dtypes"
   ]
  },
  {
   "cell_type": "markdown",
   "metadata": {},
   "source": [
    "I want a point of comparison each month to see the amount of money taken in, but each month has differing amounts of parking, so a simple comparison of the total doesn't make sense. If we compare the amount taken in to the amount taken in by city workers, that could work, as both should track. Let's verify that."
   ]
  },
  {
   "cell_type": "code",
   "execution_count": 141,
   "metadata": {
    "collapsed": false
   },
   "outputs": [
    {
     "data": {
      "text/plain": [
       "0.47647703852296858"
      ]
     },
     "execution_count": 141,
     "metadata": {},
     "output_type": "execute_result"
    }
   ],
   "source": [
    "meter_records.city.corr(meter_records.total)"
   ]
  },
  {
   "cell_type": "code",
   "execution_count": 142,
   "metadata": {
    "collapsed": false
   },
   "outputs": [
    {
     "data": {
      "text/plain": [
       "[<matplotlib.lines.Line2D at 0x11f3a1e10>]"
      ]
     },
     "execution_count": 142,
     "metadata": {},
     "output_type": "execute_result"
    },
    {
     "data": {
      "image/png": "[encoded data removed]",
      "text/plain": [
       "<matplotlib.figure.Figure at 0x11f3a1b00>"
      ]
     },
     "metadata": {},
     "output_type": "display_data"
    }
   ],
   "source": [
    "meter_records.plot(kind=\"scatter\", x=\"city\", y=\"total\", figsize=(10, 6))\n",
    "m, b = np.polyfit(meter_records.city, meter_records.total, 1)\n",
    "plt.plot(meter_records.city, m*meter_records.city + b)"
   ]
  },
  {
   "cell_type": "markdown",
   "metadata": {},
   "source": [
    "This is a medium correlation -- not great, but not bad. I don't have anything else to use, so let's go with it."
   ]
  },
  {
   "cell_type": "code",
   "execution_count": 143,
   "metadata": {
    "collapsed": false
   },
   "outputs": [],
   "source": [
    "meter_records['adj_revenue'] = meter_records['total'] / meter_records['city']"
   ]
  },
  {
   "cell_type": "code",
   "execution_count": 144,
   "metadata": {
    "collapsed": false
   },
   "outputs": [
    {
     "data": {
      "text/html": [
       "<div>\n",
       "<table border=\"1\" class=\"dataframe\">\n",
       "  <thead>\n",
       "    <tr style=\"text-align: right;\">\n",
       "      <th></th>\n",
       "      <th>month</th>\n",
       "      <th>total</th>\n",
       "      <th>city</th>\n",
       "      <th>brinks</th>\n",
       "      <th>adj_revenue</th>\n",
       "    </tr>\n",
       "  </thead>\n",
       "  <tbody>\n",
       "    <tr>\n",
       "      <th>0</th>\n",
       "      <td>1</td>\n",
       "      <td>2224277</td>\n",
       "      <td>6729</td>\n",
       "      <td>0</td>\n",
       "      <td>330.550899</td>\n",
       "    </tr>\n",
       "    <tr>\n",
       "      <th>1</th>\n",
       "      <td>2</td>\n",
       "      <td>1892672</td>\n",
       "      <td>5751</td>\n",
       "      <td>0</td>\n",
       "      <td>329.103113</td>\n",
       "    </tr>\n",
       "    <tr>\n",
       "      <th>2</th>\n",
       "      <td>3</td>\n",
       "      <td>1468074</td>\n",
       "      <td>6711</td>\n",
       "      <td>0</td>\n",
       "      <td>218.756370</td>\n",
       "    </tr>\n",
       "    <tr>\n",
       "      <th>3</th>\n",
       "      <td>4</td>\n",
       "      <td>1618966</td>\n",
       "      <td>7069</td>\n",
       "      <td>0</td>\n",
       "      <td>229.023341</td>\n",
       "    </tr>\n",
       "    <tr>\n",
       "      <th>4</th>\n",
       "      <td>5</td>\n",
       "      <td>1509195</td>\n",
       "      <td>7134</td>\n",
       "      <td>0</td>\n",
       "      <td>211.549622</td>\n",
       "    </tr>\n",
       "  </tbody>\n",
       "</table>\n",
       "</div>"
      ],
      "text/plain": [
       "   month    total  city  brinks  adj_revenue\n",
       "0      1  2224277  6729       0   330.550899\n",
       "1      2  1892672  5751       0   329.103113\n",
       "2      3  1468074  6711       0   218.756370\n",
       "3      4  1618966  7069       0   229.023341\n",
       "4      5  1509195  7134       0   211.549622"
      ]
     },
     "execution_count": 144,
     "metadata": {},
     "output_type": "execute_result"
    }
   ],
   "source": [
    "meter_records.head()"
   ]
  },
  {
   "cell_type": "markdown",
   "metadata": {},
   "source": [
    "Now let's see the mean adjusted revenue for months when Brinks was active (1) and not active (0)."
   ]
  },
  {
   "cell_type": "code",
   "execution_count": 145,
   "metadata": {
    "collapsed": false
   },
   "outputs": [
    {
     "data": {
      "text/html": [
       "<div>\n",
       "<table border=\"1\" class=\"dataframe\">\n",
       "  <thead>\n",
       "    <tr style=\"text-align: right;\">\n",
       "      <th>brinks</th>\n",
       "      <th>0</th>\n",
       "      <th>1</th>\n",
       "    </tr>\n",
       "  </thead>\n",
       "  <tbody>\n",
       "    <tr>\n",
       "      <th>adj_revenue</th>\n",
       "      <td>247.104317</td>\n",
       "      <td>229.583858</td>\n",
       "    </tr>\n",
       "  </tbody>\n",
       "</table>\n",
       "</div>"
      ],
      "text/plain": [
       "brinks                0           1\n",
       "adj_revenue  247.104317  229.583858"
      ]
     },
     "execution_count": 145,
     "metadata": {},
     "output_type": "execute_result"
    }
   ],
   "source": [
    "meter_records.pivot_table(columns=['brinks'], values=['adj_revenue'])"
   ]
  },
  {
   "cell_type": "markdown",
   "metadata": {},
   "source": [
    "## The p-value\n",
    "\n",
    "There's definitely a difference, but is it random chance or is this actually significant? In order to find out, we want the _p-value_.\n",
    "\n",
    "What is a _p-value_?\n",
    "\n",
    "For a test of statistical significance, we start with the _null hypothesis_. This is the hypothesis that there's no relation between groups. It's generally the opposite of what we're testing for. In this case, the null hypothesis is that there's no relation between whether Brinks was operating the meters and the amount of revenue brought in.\n",
    "\n",
    "Once you have that, you compare your observed result -- in this case the difference in mean adjusted revenue for months when Brinks was active and when it was inactive -- to some statistical model to see how extreme your result is. Another way of looking at it is, given your observed result, what's the likelihood the null hypothesis is true?\n",
    "\n",
    "People argue about the next step, but it's an OK rule of thumb: p-values of < 0.05 mean the null hypothesis is most likely not true.\n",
    "\n",
    "Note that we never see the chance that our alternative hypothesis -- the thing we're testing for -- is true. We are accepting or rejecting the null hypothesis.\n",
    "\n",
    "### Shuffling labels\n",
    "\n",
    "There are complex formula-based ways to calculate the p-value. I don't know them. I have a computer, though, so I can use another way. We can shuffle the labels -- in this case, shuffle the \"brinks\" value to different months -- many times and record our results. Shuffling them assume they don't matter -- our null hypothesis. If we do this many times, we can get a distribution of results and then see where our observed result falls on that. I'm going to do this with Pandas, but there's other ways."
   ]
  },
  {
   "cell_type": "code",
   "execution_count": 146,
   "metadata": {
    "collapsed": false
   },
   "outputs": [
    {
     "data": {
      "text/plain": [
       "17.520458731191894"
      ]
     },
     "execution_count": 146,
     "metadata": {},
     "output_type": "execute_result"
    }
   ],
   "source": [
    "# Get our observed value.\n",
    "def mean_revenue_diff(df):\n",
    "    revenues = df.pivot_table(columns=['brinks'], values=['adj_revenue'])\n",
    "    return (revenues[0] - revenues[1])['adj_revenue']\n",
    "\n",
    "observed_mean_diff = mean_revenue_diff(meter_records)\n",
    "observed_mean_diff"
   ]
  },
  {
   "cell_type": "code",
   "execution_count": 147,
   "metadata": {
    "collapsed": false
   },
   "outputs": [
    {
     "data": {
      "text/html": [
       "<div>\n",
       "<table border=\"1\" class=\"dataframe\">\n",
       "  <thead>\n",
       "    <tr style=\"text-align: right;\">\n",
       "      <th></th>\n",
       "      <th>month</th>\n",
       "      <th>total</th>\n",
       "      <th>city</th>\n",
       "      <th>brinks</th>\n",
       "      <th>adj_revenue</th>\n",
       "    </tr>\n",
       "  </thead>\n",
       "  <tbody>\n",
       "    <tr>\n",
       "      <th>0</th>\n",
       "      <td>1</td>\n",
       "      <td>2224277</td>\n",
       "      <td>6729</td>\n",
       "      <td>0</td>\n",
       "      <td>330.550899</td>\n",
       "    </tr>\n",
       "    <tr>\n",
       "      <th>1</th>\n",
       "      <td>2</td>\n",
       "      <td>1892672</td>\n",
       "      <td>5751</td>\n",
       "      <td>0</td>\n",
       "      <td>329.103113</td>\n",
       "    </tr>\n",
       "    <tr>\n",
       "      <th>2</th>\n",
       "      <td>3</td>\n",
       "      <td>1468074</td>\n",
       "      <td>6711</td>\n",
       "      <td>0</td>\n",
       "      <td>218.756370</td>\n",
       "    </tr>\n",
       "    <tr>\n",
       "      <th>3</th>\n",
       "      <td>4</td>\n",
       "      <td>1618966</td>\n",
       "      <td>7069</td>\n",
       "      <td>0</td>\n",
       "      <td>229.023341</td>\n",
       "    </tr>\n",
       "    <tr>\n",
       "      <th>4</th>\n",
       "      <td>5</td>\n",
       "      <td>1509195</td>\n",
       "      <td>7134</td>\n",
       "      <td>0</td>\n",
       "      <td>211.549622</td>\n",
       "    </tr>\n",
       "    <tr>\n",
       "      <th>5</th>\n",
       "      <td>6</td>\n",
       "      <td>1511014</td>\n",
       "      <td>5954</td>\n",
       "      <td>0</td>\n",
       "      <td>253.781323</td>\n",
       "    </tr>\n",
       "    <tr>\n",
       "      <th>6</th>\n",
       "      <td>7</td>\n",
       "      <td>1506977</td>\n",
       "      <td>5447</td>\n",
       "      <td>0</td>\n",
       "      <td>276.661832</td>\n",
       "    </tr>\n",
       "    <tr>\n",
       "      <th>7</th>\n",
       "      <td>8</td>\n",
       "      <td>1520443</td>\n",
       "      <td>6558</td>\n",
       "      <td>0</td>\n",
       "      <td>231.845532</td>\n",
       "    </tr>\n",
       "    <tr>\n",
       "      <th>8</th>\n",
       "      <td>9</td>\n",
       "      <td>1070936</td>\n",
       "      <td>5222</td>\n",
       "      <td>0</td>\n",
       "      <td>205.081578</td>\n",
       "    </tr>\n",
       "    <tr>\n",
       "      <th>9</th>\n",
       "      <td>11</td>\n",
       "      <td>1602841</td>\n",
       "      <td>6765</td>\n",
       "      <td>0</td>\n",
       "      <td>236.931412</td>\n",
       "    </tr>\n",
       "  </tbody>\n",
       "</table>\n",
       "</div>"
      ],
      "text/plain": [
       "   month    total  city  brinks  adj_revenue\n",
       "0      1  2224277  6729       0   330.550899\n",
       "1      2  1892672  5751       0   329.103113\n",
       "2      3  1468074  6711       0   218.756370\n",
       "3      4  1618966  7069       0   229.023341\n",
       "4      5  1509195  7134       0   211.549622\n",
       "5      6  1511014  5954       0   253.781323\n",
       "6      7  1506977  5447       0   276.661832\n",
       "7      8  1520443  6558       0   231.845532\n",
       "8      9  1070936  5222       0   205.081578\n",
       "9     11  1602841  6765       0   236.931412"
      ]
     },
     "execution_count": 147,
     "metadata": {},
     "output_type": "execute_result"
    }
   ],
   "source": [
    "# Copy the table so we can mess with it.\n",
    "mr2 = meter_records.copy()\n",
    "mr2.head(10)"
   ]
  },
  {
   "cell_type": "markdown",
   "metadata": {},
   "source": [
    "# Shuffle the Brinks column."
   ]
  },
  {
   "cell_type": "code",
   "execution_count": 157,
   "metadata": {
    "collapsed": false
   },
   "outputs": [
    {
     "data": {
      "text/plain": [
       "20.518502959227476"
      ]
     },
     "execution_count": 157,
     "metadata": {},
     "output_type": "execute_result"
    }
   ],
   "source": [
    "mr2.brinks = np.random.permutation(mr2.brinks)\n",
    "mr2.pivot_table(columns=['brinks'], values=['adj_revenue'])\n",
    "\n",
    "mean_revenue_diff(mr2)"
   ]
  },
  {
   "cell_type": "code",
   "execution_count": 158,
   "metadata": {
    "collapsed": false
   },
   "outputs": [],
   "source": [
    "num_experiments = 1000\n",
    "results = []\n",
    "count = 0\n",
    "for _ in range(num_experiments):\n",
    "    mr2.brinks = np.random.permutation(mr2.brinks)\n",
    "    mean_diff = mean_revenue_diff(mr2)\n",
    "    results.append(mean_diff)\n",
    "    if observed_mean_diff >= 0 and mean_diff >= observed_mean_diff:\n",
    "        count += 1\n",
    "    elif observed_mean_diff < 0 and mean_diff <= observed_mean_diff:\n",
    "        count += 1"
   ]
  },
  {
   "cell_type": "code",
   "execution_count": 159,
   "metadata": {
    "collapsed": false
   },
   "outputs": [
    {
     "name": "stdout",
     "output_type": "stream",
     "text": [
      "Observed difference of two means: 17.52\n",
      "38 out of 1000 experiments had a difference of two means greater than or equal to 17.52 .\n",
      "The chance of getting a difference of two means greater than or equal to 17.52 is 0.038 .\n"
     ]
    }
   ],
   "source": [
    "print(\"Observed difference of two means: %.2f\" % observed_mean_diff)\n",
    "print(count, \"out of\", num_experiments, \"experiments had a difference of two means \", end=\"\")\n",
    "if observed_mean_diff < 0:\n",
    "    print(\"less than or equal to \", end=\"\")\n",
    "else:\n",
    "    print(\"greater than or equal to \", end=\"\")\n",
    "print(\"%.2f\" % observed_mean_diff, \".\")\n",
    "print(\"The chance of getting a difference of two means \", end=\"\")\n",
    "if observed_mean_diff < 0:\n",
    "    print(\"less than or equal to \", end=\"\")\n",
    "else:\n",
    "    print(\"greater than or equal to \", end=\"\")\n",
    "print(\"%.2f\" % observed_mean_diff, \"is\", (count / float(num_experiments)), \".\")"
   ]
  },
  {
   "cell_type": "markdown",
   "metadata": {},
   "source": [
    "That's our p-value! Let's see it on a graph."
   ]
  },
  {
   "cell_type": "code",
   "execution_count": 160,
   "metadata": {
    "collapsed": false
   },
   "outputs": [
    {
     "data": {
      "text/plain": [
       "<matplotlib.collections.LineCollection at 0x11e813390>"
      ]
     },
     "execution_count": 160,
     "metadata": {},
     "output_type": "execute_result"
    },
    {
     "data": {
      "image/png": "[encoded data removed]",
      "text/plain": [
       "<matplotlib.figure.Figure at 0x11dfd8c88>"
      ]
     },
     "metadata": {},
     "output_type": "display_data"
    }
   ],
   "source": [
    "plt.figure(figsize=(10, 6))\n",
    "sns.distplot(results, kde=False)\n",
    "plt.vlines(observed_mean_diff, 0, 120, colors=\"g\", linestyle=\"dashed\")"
   ]
  },
  {
   "cell_type": "markdown",
   "metadata": {},
   "source": [
    "## Confidence intervals\n",
    "\n",
    "We'd like to know the amount of money Brinks owes the city, but there's not a good way to say exactly what that is. (Can you think of a way?)\n",
    "\n",
    "Even though our results were statistically significant, they might not even be important. What if Brinks employees stole $100/month? To NYC, the costs of taking the case to trial would dwarf that. _Confidence intervals_ show us importance. A confidence interval is simply the range of likely results. In general, this is the middle 90% of possible values.\n",
    "\n",
    "How do we get \"possible values?\" We can use a technique called \"bootstrapping\". We create samples of the data the same size as the original, taking observations randomly and _with replacement_. This means that we might pick the same observation more than once -- which is what we want. We do this 10,000 times, taking the difference of means each time."
   ]
  },
  {
   "cell_type": "code",
   "execution_count": 163,
   "metadata": {
    "collapsed": false
   },
   "outputs": [
    {
     "data": {
      "text/html": [
       "<div>\n",
       "<table border=\"1\" class=\"dataframe\">\n",
       "  <thead>\n",
       "    <tr style=\"text-align: right;\">\n",
       "      <th></th>\n",
       "      <th>month</th>\n",
       "      <th>total</th>\n",
       "      <th>city</th>\n",
       "      <th>brinks</th>\n",
       "      <th>adj_revenue</th>\n",
       "    </tr>\n",
       "  </thead>\n",
       "  <tbody>\n",
       "    <tr>\n",
       "      <th>18</th>\n",
       "      <td>20</td>\n",
       "      <td>1547011</td>\n",
       "      <td>7105</td>\n",
       "      <td>1</td>\n",
       "      <td>217.735538</td>\n",
       "    </tr>\n",
       "    <tr>\n",
       "      <th>28</th>\n",
       "      <td>30</td>\n",
       "      <td>1846508</td>\n",
       "      <td>6855</td>\n",
       "      <td>1</td>\n",
       "      <td>269.366594</td>\n",
       "    </tr>\n",
       "    <tr>\n",
       "      <th>40</th>\n",
       "      <td>42</td>\n",
       "      <td>1918247</td>\n",
       "      <td>7986</td>\n",
       "      <td>0</td>\n",
       "      <td>240.201227</td>\n",
       "    </tr>\n",
       "    <tr>\n",
       "      <th>30</th>\n",
       "      <td>32</td>\n",
       "      <td>1685611</td>\n",
       "      <td>6830</td>\n",
       "      <td>1</td>\n",
       "      <td>246.795168</td>\n",
       "    </tr>\n",
       "    <tr>\n",
       "      <th>22</th>\n",
       "      <td>24</td>\n",
       "      <td>1652490</td>\n",
       "      <td>6716</td>\n",
       "      <td>1</td>\n",
       "      <td>246.052710</td>\n",
       "    </tr>\n",
       "    <tr>\n",
       "      <th>13</th>\n",
       "      <td>15</td>\n",
       "      <td>1312257</td>\n",
       "      <td>6264</td>\n",
       "      <td>1</td>\n",
       "      <td>209.491858</td>\n",
       "    </tr>\n",
       "    <tr>\n",
       "      <th>38</th>\n",
       "      <td>40</td>\n",
       "      <td>1733339</td>\n",
       "      <td>8126</td>\n",
       "      <td>0</td>\n",
       "      <td>213.307778</td>\n",
       "    </tr>\n",
       "    <tr>\n",
       "      <th>34</th>\n",
       "      <td>36</td>\n",
       "      <td>1566107</td>\n",
       "      <td>6637</td>\n",
       "      <td>1</td>\n",
       "      <td>235.966099</td>\n",
       "    </tr>\n",
       "    <tr>\n",
       "      <th>38</th>\n",
       "      <td>40</td>\n",
       "      <td>1733339</td>\n",
       "      <td>8126</td>\n",
       "      <td>0</td>\n",
       "      <td>213.307778</td>\n",
       "    </tr>\n",
       "    <tr>\n",
       "      <th>34</th>\n",
       "      <td>36</td>\n",
       "      <td>1566107</td>\n",
       "      <td>6637</td>\n",
       "      <td>1</td>\n",
       "      <td>235.966099</td>\n",
       "    </tr>\n",
       "  </tbody>\n",
       "</table>\n",
       "</div>"
      ],
      "text/plain": [
       "    month    total  city  brinks  adj_revenue\n",
       "18     20  1547011  7105       1   217.735538\n",
       "28     30  1846508  6855       1   269.366594\n",
       "40     42  1918247  7986       0   240.201227\n",
       "30     32  1685611  6830       1   246.795168\n",
       "22     24  1652490  6716       1   246.052710\n",
       "13     15  1312257  6264       1   209.491858\n",
       "38     40  1733339  8126       0   213.307778\n",
       "34     36  1566107  6637       1   235.966099\n",
       "38     40  1733339  8126       0   213.307778\n",
       "34     36  1566107  6637       1   235.966099"
      ]
     },
     "execution_count": 163,
     "metadata": {},
     "output_type": "execute_result"
    }
   ],
   "source": [
    "meter_records.sample(n=10, replace=True)"
   ]
  },
  {
   "cell_type": "code",
   "execution_count": 164,
   "metadata": {
    "collapsed": true
   },
   "outputs": [],
   "source": [
    "conf_interval = 0.9\n",
    "num_experiments = 1000\n",
    "results = []\n",
    "for _ in range(num_experiments):\n",
    "    df = meter_records.sample(frac=1, replace=True)\n",
    "    mean_diff = mean_revenue_diff(df)\n",
    "    results.append(mean_diff)"
   ]
  },
  {
   "cell_type": "code",
   "execution_count": 165,
   "metadata": {
    "collapsed": false
   },
   "outputs": [],
   "source": [
    "results.sort()\n",
    "tails = (1 - conf_interval) / 2\n",
    "lower_bound = int(math.ceil(num_experiments * tails))\n",
    "upper_bound = int(math.floor(num_experiments * (1 - tails)))"
   ]
  },
  {
   "cell_type": "code",
   "execution_count": 166,
   "metadata": {
    "collapsed": false
   },
   "outputs": [
    {
     "name": "stdout",
     "output_type": "stream",
     "text": [
      "Observed difference between the means: 17.52\n",
      "We have 90% confidence that the true difference between the means is between: 2.99 and 32.11\n"
     ]
    }
   ],
   "source": [
    "print(\"Observed difference between the means: %.2f\" % observed_mean_diff)\n",
    "print(\"We have %d%% confidence that the true difference between the means is between: %.2f and %.2f\" % \\\n",
    "      (conf_interval * 100, results[lower_bound], results[upper_bound]))"
   ]
  },
  {
   "cell_type": "code",
   "execution_count": 167,
   "metadata": {
    "collapsed": false
   },
   "outputs": [
    {
     "data": {
      "text/plain": [
       "<matplotlib.axes._subplots.AxesSubplot at 0x12001ea90>"
      ]
     },
     "execution_count": 167,
     "metadata": {},
     "output_type": "execute_result"
    },
    {
     "data": {
      "image/png": "[encoded data removed]",
      "text/plain": [
       "<matplotlib.figure.Figure at 0x120042c88>"
      ]
     },
     "metadata": {},
     "output_type": "display_data"
    }
   ],
   "source": [
    "plt.figure(figsize=(10, 6))\n",
    "sns.distplot(results, kde=False)"
   ]
  },
  {
   "cell_type": "markdown",
   "metadata": {},
   "source": [
    "This doesn't get us an amount of dollars, though. How could we do that?"
   ]
  },
  {
   "cell_type": "code",
   "execution_count": 169,
   "metadata": {
    "collapsed": false
   },
   "outputs": [
    {
     "data": {
      "text/plain": [
       "6933.75"
      ]
     },
     "execution_count": 169,
     "metadata": {},
     "output_type": "execute_result"
    }
   ],
   "source": [
    "# Do amount of dollars calculations here.\n",
    "meter_records[meter_records.brinks == 1].city.mean()"
   ]
  },
  {
   "cell_type": "code",
   "execution_count": 170,
   "metadata": {
    "collapsed": false
   },
   "outputs": [
    {
     "name": "stdout",
     "output_type": "stream",
     "text": [
      "20731.912500000002\n",
      "222642.7125\n"
     ]
    }
   ],
   "source": [
    "print(2.99 * 6933.75)\n",
    "print(32.11 * 6933.75)"
   ]
  },
  {
   "cell_type": "code",
   "execution_count": 171,
   "metadata": {
    "collapsed": false
   },
   "outputs": [
    {
     "data": {
      "text/plain": [
       "24"
      ]
     },
     "execution_count": 171,
     "metadata": {},
     "output_type": "execute_result"
    }
   ],
   "source": [
    "len(meter_records[meter_records.brinks == 1])"
   ]
  },
  {
   "cell_type": "markdown",
   "metadata": {},
   "source": [
    "## Resources\n",
    "\n",
    "https://speakerdeck.com/jakevdp/statistics-for-hackers\n",
    "http://www.amazon.com/Statistics-Edition-Synthesis-Lectures-Mathematics/dp/160845570X/ref=dp_ob_title_bk"
   ]
  },
  {
   "cell_type": "code",
   "execution_count": null,
   "metadata": {
    "collapsed": true
   },
   "outputs": [],
   "source": []
  }
 ],
 "metadata": {
  "kernelspec": {
   "display_name": "Python 3",
   "language": "python",
   "name": "python3"
  },
  "language_info": {
   "codemirror_mode": {
    "name": "ipython",
    "version": 3
   },
   "file_extension": ".py",
   "mimetype": "text/x-python",
   "name": "python",
   "nbconvert_exporter": "python",
   "pygments_lexer": "ipython3",
   "version": "3.5.1"
  }
 },
 "nbformat": 4,
 "nbformat_minor": 0
}
